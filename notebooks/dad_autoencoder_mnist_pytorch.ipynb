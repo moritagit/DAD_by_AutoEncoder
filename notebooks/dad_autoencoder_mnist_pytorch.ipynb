{
 "cells": [
  {
   "cell_type": "markdown",
   "metadata": {},
   "source": [
    "# Anomaly Detection of MNIST by AutoEncoder (PyTorch)"
   ]
  },
  {
   "cell_type": "code",
   "execution_count": 1,
   "metadata": {
    "collapsed": true
   },
   "outputs": [],
   "source": [
    "import pathlib\n",
    "\n",
    "import numpy as np\n",
    "import matplotlib.pyplot as plt\n",
    "\n",
    "import torch\n",
    "import torch.nn as nn\n",
    "from torch.autograd import Variable\n",
    "from torch.utils.data import DataLoader\n",
    "\n",
    "import torchvision\n",
    "from torchvision import transforms\n",
    "from torchvision.utils import save_image"
   ]
  },
  {
   "cell_type": "code",
   "execution_count": 2,
   "metadata": {
    "collapsed": true
   },
   "outputs": [],
   "source": [
    "data_path = pathlib.Path().cwd().parents[1] / 'data' / 'processed' / 'mnist'\n",
    "model_storage_path = pathlib.Path().cwd().parent / 'models'\n",
    "result_storage_path = pathlib.Path().cwd().parent / 'results'"
   ]
  },
  {
   "cell_type": "code",
   "execution_count": 3,
   "metadata": {
    "collapsed": true
   },
   "outputs": [],
   "source": [
    "model_path = model_storage_path / 'dad_autoencoder.pth'"
   ]
  },
  {
   "cell_type": "code",
   "execution_count": 4,
   "metadata": {
    "collapsed": false
   },
   "outputs": [
    {
     "name": "stdout",
     "output_type": "stream",
     "text": [
      "Device: cpu\n"
     ]
    }
   ],
   "source": [
    "device = torch.device('cuda' if torch.cuda.is_available() else 'cpu')\n",
    "print(f'Device: {device}')"
   ]
  },
  {
   "cell_type": "code",
   "execution_count": 5,
   "metadata": {
    "collapsed": true
   },
   "outputs": [],
   "source": [
    "epochs = 10\n",
    "batch_size = 128\n",
    "learning_rate = 0.001\n",
    "weight_decay = 1e-5"
   ]
  },
  {
   "cell_type": "code",
   "execution_count": 6,
   "metadata": {
    "collapsed": false
   },
   "outputs": [],
   "source": [
    "class MNISTDataset(torch.utils.data.Dataset):\n",
    "    def __init__(self, data_path, transform=None, is_training=False):\n",
    "        mode = ''\n",
    "        if is_training:\n",
    "            mode = 'train'\n",
    "        else:\n",
    "            mode = 'test'\n",
    "        self.transform = transform\n",
    "        self.images = np.load(str(data_path / f'{mode}_images.npy')).astype(np.float32)\n",
    "        self.labels = np.load(str(data_path / f'{mode}_labels.npy'))\n",
    "        self.size = len(self.labels)\n",
    "\n",
    "    def __len__(self):\n",
    "        return self.size\n",
    "\n",
    "    def __getitem__(self, idx):\n",
    "        image = self.images[idx]\n",
    "        label = self.labels[idx]\n",
    "        if self.transform:\n",
    "            image = self.transform(image)\n",
    "        return image, label"
   ]
  },
  {
   "cell_type": "code",
   "execution_count": 7,
   "metadata": {
    "collapsed": true
   },
   "outputs": [],
   "source": [
    "transformer = transforms.Compose([\n",
    "    transforms.ToTensor(),\n",
    "    transforms.Normalize((128.0,), (128.0,)),  # [-1,1]\n",
    "    ])"
   ]
  },
  {
   "cell_type": "code",
   "execution_count": 8,
   "metadata": {
    "collapsed": false
   },
   "outputs": [],
   "source": [
    "train_dataset = MNISTDataset(data_path, transform=transformer, is_training=True)"
   ]
  },
  {
   "cell_type": "code",
   "execution_count": 9,
   "metadata": {
    "collapsed": false
   },
   "outputs": [],
   "source": [
    "train_loader = DataLoader(train_dataset, batch_size=batch_size, shuffle=True)"
   ]
  },
  {
   "cell_type": "code",
   "execution_count": 10,
   "metadata": {
    "collapsed": false
   },
   "outputs": [],
   "source": [
    "class AutoEncoder(nn.Module):\n",
    "    def __init__(self):\n",
    "        super(AutoEncoder, self).__init__()\n",
    "        self.encoder = nn.Sequential(\n",
    "            nn.Linear(28 * 28, 128),\n",
    "            nn.ReLU(True),\n",
    "            nn.Linear(128, 64),\n",
    "            nn.ReLU(True),\n",
    "            nn.Linear(64, 12),\n",
    "            nn.ReLU(True),\n",
    "            nn.Linear(12, 2),\n",
    "            )\n",
    "        \n",
    "        self.decoder = nn.Sequential(\n",
    "            nn.Linear(2, 12),\n",
    "            nn.ReLU(True),\n",
    "            nn.Linear(12, 64),\n",
    "            nn.ReLU(True),\n",
    "            nn.Linear(64, 128),\n",
    "            nn.ReLU(True),\n",
    "            nn.Linear(128, 28 * 28),\n",
    "            nn.Tanh(),\n",
    "            )\n",
    "\n",
    "    def forward(self, x):\n",
    "        x = self.encoder(x)\n",
    "        x = self.decoder(x)\n",
    "        return x"
   ]
  },
  {
   "cell_type": "code",
   "execution_count": 11,
   "metadata": {
    "collapsed": false
   },
   "outputs": [],
   "source": [
    "model = AutoEncoder().to(device)"
   ]
  },
  {
   "cell_type": "code",
   "execution_count": 12,
   "metadata": {
    "collapsed": false
   },
   "outputs": [
    {
     "data": {
      "text/plain": [
       "AutoEncoder(\n",
       "  (encoder): Sequential(\n",
       "    (0): Linear(in_features=784, out_features=128, bias=True)\n",
       "    (1): ReLU(inplace)\n",
       "    (2): Linear(in_features=128, out_features=64, bias=True)\n",
       "    (3): ReLU(inplace)\n",
       "    (4): Linear(in_features=64, out_features=12, bias=True)\n",
       "    (5): ReLU(inplace)\n",
       "    (6): Linear(in_features=12, out_features=2, bias=True)\n",
       "  )\n",
       "  (decoder): Sequential(\n",
       "    (0): Linear(in_features=2, out_features=12, bias=True)\n",
       "    (1): ReLU(inplace)\n",
       "    (2): Linear(in_features=12, out_features=64, bias=True)\n",
       "    (3): ReLU(inplace)\n",
       "    (4): Linear(in_features=64, out_features=128, bias=True)\n",
       "    (5): ReLU(inplace)\n",
       "    (6): Linear(in_features=128, out_features=784, bias=True)\n",
       "    (7): Tanh()\n",
       "  )\n",
       ")"
      ]
     },
     "execution_count": 12,
     "metadata": {},
     "output_type": "execute_result"
    }
   ],
   "source": [
    "model"
   ]
  },
  {
   "cell_type": "code",
   "execution_count": 13,
   "metadata": {
    "collapsed": true
   },
   "outputs": [],
   "source": [
    "def to_img(x):\n",
    "    x = 0.5 * (x + 1)  # [-1,1] => [0, 1]\n",
    "    x = x.clamp(0, 1)\n",
    "    x = x.view(x.size(0), 1, 28, 28)\n",
    "    return x"
   ]
  },
  {
   "cell_type": "code",
   "execution_count": 14,
   "metadata": {
    "collapsed": true
   },
   "outputs": [],
   "source": [
    "criterion = nn.MSELoss()\n",
    "optimizer = torch.optim.Adam(\n",
    "    model.parameters(),\n",
    "    lr=learning_rate,\n",
    "    weight_decay=weight_decay,\n",
    "    )"
   ]
  },
  {
   "cell_type": "code",
   "execution_count": 15,
   "metadata": {
    "collapsed": false
   },
   "outputs": [
    {
     "name": "stdout",
     "output_type": "stream",
     "text": [
      "Epoch [1/10] \t Loss: 0.1256\n",
      "Epoch [2/10] \t Loss: 0.1081\n",
      "Epoch [3/10] \t Loss: 0.0915\n",
      "Epoch [4/10] \t Loss: 0.0668\n",
      "Epoch [5/10] \t Loss: 0.0584\n",
      "Epoch [6/10] \t Loss: 0.0564\n",
      "Epoch [7/10] \t Loss: 0.0540\n",
      "Epoch [8/10] \t Loss: 0.0455\n",
      "Epoch [9/10] \t Loss: 0.0565\n",
      "Epoch [10/10] \t Loss: 0.0486\n"
     ]
    }
   ],
   "source": [
    "loss_list = []\n",
    "for epoch in range(1, 1+epochs):\n",
    "    for data in train_loader:\n",
    "        img, _ = data\n",
    "        x = img.view(img.size(0), -1)\n",
    "        x = Variable(x).to(device)\n",
    "        \n",
    "        xhat = model(x)\n",
    "    \n",
    "        # 出力画像（再構成画像）と入力画像の間でlossを計算\n",
    "        loss = criterion(xhat, x)\n",
    "        \n",
    "        optimizer.zero_grad()\n",
    "        loss.backward()\n",
    "        optimizer.step()\n",
    "        \n",
    "        loss = loss.item()\n",
    "        \n",
    "        # logging\n",
    "        loss_list.append(loss)\n",
    "    \n",
    "    print(f'Epoch [{epoch}/{epochs}] \\t Loss: {loss:.4f}')\n",
    "\n",
    "    # 10エポックごとに再構成された画像（xhat）を描画する\n",
    "    if epoch % 10 == 0:\n",
    "        pic = to_img(xhat.cpu().data)\n",
    "        save_image(pic, str(result_storage_path / f'image_{epoch}.png'))\n",
    "np.save(str(result_storage_path / 'loss_list.npy'), np.array(loss_list))"
   ]
  },
  {
   "cell_type": "code",
   "execution_count": 16,
   "metadata": {
    "collapsed": true
   },
   "outputs": [],
   "source": [
    "torch.save(model.state_dict(), str(model_path))"
   ]
  },
  {
   "cell_type": "code",
   "execution_count": 17,
   "metadata": {
    "collapsed": false
   },
   "outputs": [
    {
     "data": {
      "image/png": "[encoded data removed]",
      "text/plain": [
       "<matplotlib.figure.Figure at 0x2014a8ea6a0>"
      ]
     },
     "metadata": {},
     "output_type": "display_data"
    }
   ],
   "source": [
    "#loss_list = np.loadstr(result_storage_path / 'loss_list.npy'))\n",
    "plt.plot(loss_list)\n",
    "plt.xlabel('iteration')\n",
    "plt.ylabel('loss')\n",
    "plt.grid()\n",
    "plt.show()"
   ]
  },
  {
   "cell_type": "code",
   "execution_count": 18,
   "metadata": {
    "collapsed": false
   },
   "outputs": [
    {
     "data": {
      "image/png": "[encoded data removed]",
      "text/plain": [
       "<IPython.core.display.Image object>"
      ]
     },
     "execution_count": 18,
     "metadata": {},
     "output_type": "execute_result"
    }
   ],
   "source": [
    "from IPython.display import Image, display_png\n",
    "Image(filename=str(result_storage_path / 'image_10.png'))"
   ]
  },
  {
   "cell_type": "code",
   "execution_count": 19,
   "metadata": {
    "collapsed": true
   },
   "outputs": [],
   "source": [
    "batch_size_test = 10000"
   ]
  },
  {
   "cell_type": "code",
   "execution_count": 20,
   "metadata": {
    "collapsed": true
   },
   "outputs": [],
   "source": [
    "model.load_state_dict(torch.load(str(model_path)))"
   ]
  },
  {
   "cell_type": "code",
   "execution_count": 34,
   "metadata": {
    "collapsed": false
   },
   "outputs": [],
   "source": [
    "test_dataset = MNISTDataset(data_path, transform=transformer, is_training=False)"
   ]
  },
  {
   "cell_type": "code",
   "execution_count": 35,
   "metadata": {
    "collapsed": false
   },
   "outputs": [],
   "source": [
    "test_loader = DataLoader(test_dataset, batch_size=batch_size_test, shuffle=False)"
   ]
  },
  {
   "cell_type": "code",
   "execution_count": 36,
   "metadata": {
    "collapsed": false
   },
   "outputs": [],
   "source": [
    "images, labels = iter(test_loader).next()\n",
    "images = images.view(images.shape[0], -1)"
   ]
  },
  {
   "cell_type": "code",
   "execution_count": 37,
   "metadata": {
    "collapsed": true
   },
   "outputs": [],
   "source": [
    "x_hat = model(images).cpu().data.numpy()"
   ]
  },
  {
   "cell_type": "code",
   "execution_count": 45,
   "metadata": {
    "collapsed": true
   },
   "outputs": [],
   "source": [
    "x = images.cpu().data.numpy()\n",
    "y = labels.cpu().data.numpy()"
   ]
  },
  {
   "cell_type": "code",
   "execution_count": 46,
   "metadata": {
    "collapsed": true
   },
   "outputs": [],
   "source": [
    "n = 6\n",
    "start_idx = 10"
   ]
  },
  {
   "cell_type": "code",
   "execution_count": 47,
   "metadata": {
    "collapsed": false
   },
   "outputs": [
    {
     "data": {
      "image/png": "[encoded data removed]",
      "text/plain": [
       "<matplotlib.figure.Figure at 0x20153311710>"
      ]
     },
     "metadata": {},
     "output_type": "display_data"
    }
   ],
   "source": [
    "plt.figure(figsize=(12, 4))\n",
    "for i in range(n):\n",
    "    # テスト画像を表示\n",
    "    ax = plt.subplot(2, n, i+1)\n",
    "    plt.imshow(x[start_idx+i].reshape(28, 28))\n",
    "    plt.gray()\n",
    "    ax.get_xaxis().set_visible(False)\n",
    "    ax.get_yaxis().set_visible(False)\n",
    " \n",
    "    # 出力画像を表示\n",
    "    ax = plt.subplot(2, n, i+1+n)\n",
    "    plt.imshow(x_hat[start_idx+i].reshape(28, 28))\n",
    "    plt.gray()\n",
    "    ax.get_xaxis().set_visible(False)\n",
    "    ax.get_yaxis().set_visible(False)\n",
    "plt.savefig(str(result_storage_path / 'result.png'))\n",
    "plt.show()"
   ]
  },
  {
   "cell_type": "code",
   "execution_count": 48,
   "metadata": {
    "collapsed": false
   },
   "outputs": [
    {
     "data": {
      "image/png": "[encoded data removed]",
      "text/plain": [
       "<matplotlib.figure.Figure at 0x20153fe6cc0>"
      ]
     },
     "metadata": {},
     "output_type": "display_data"
    }
   ],
   "source": [
    "plt.figure(figsize=(12, 6))\n",
    "for i in range(n):\n",
    "    # テスト画像を表示\n",
    "    ax = plt.subplot(3, n, i+1)\n",
    "    plt.imshow(x[start_idx+i].reshape(28, 28))\n",
    "    plt.gray()\n",
    "    ax.get_xaxis().set_visible(False)\n",
    "    ax.get_yaxis().set_visible(False)\n",
    " \n",
    "    # 出力画像を表示\n",
    "    ax = plt.subplot(3, n, i+1+n)\n",
    "    plt.imshow(x_hat[start_idx+i].reshape(28, 28))\n",
    "    plt.gray()\n",
    "    ax.get_xaxis().set_visible(False)\n",
    "    ax.get_yaxis().set_visible(False)\n",
    "    \n",
    "    # 入出力の差分画像を計算\n",
    "    diff_img = x[start_idx+i] - x_hat[start_idx+i]\n",
    "    \n",
    "    # 入出力の差分数値を計算\n",
    "    diff = np.sum(np.abs(x[start_idx+i]-x_hat[start_idx+i]))\n",
    "\n",
    "    # 差分画像と差分数値の表示\n",
    "    ax = plt.subplot(3, n, i+1+n*2)\n",
    "    plt.imshow(diff_img.reshape(28, 28))\n",
    "    plt.gray()\n",
    "    ax.get_xaxis().set_visible(True)\n",
    "    ax.get_yaxis().set_visible(True) \n",
    "    ax.set_xlabel('score = '+str(diff))    \n",
    "        \n",
    "plt.savefig(\"result.png\")\n",
    "plt.show()\n",
    "plt.close()"
   ]
  },
  {
   "cell_type": "code",
   "execution_count": 49,
   "metadata": {
    "collapsed": false
   },
   "outputs": [
    {
     "data": {
      "image/png": "[encoded data removed]",
      "text/plain": [
       "<matplotlib.figure.Figure at 0x20151bfef98>"
      ]
     },
     "metadata": {},
     "output_type": "display_data"
    }
   ],
   "source": [
    "import os\n",
    "if os.path.exists('scores_1.txt'):\n",
    "    os.remove('scores_1.txt')\n",
    "if os.path.exists('scores_9.txt'):\n",
    "    os.remove('scores_9.txt')\n",
    "\n",
    "# score の計算、結果のファイル保存\n",
    "for i in range(100):\n",
    "    score = np.sum(np.abs(x[i]-x_hat[i]))\n",
    "    \n",
    "    if y[i] == 1:\n",
    "        with open('scores_1.txt','a') as f:\n",
    "            f.write(str(score)+'\\n')            \n",
    "    else:\n",
    "        with open('scores_9.txt','a') as f:\n",
    "            f.write(str(score)+'\\n')\n",
    "\n",
    "# ファイルを元にヒストグラムの表示\n",
    "import csv\n",
    "    \n",
    "x = []\n",
    "with open('scores_1.txt', 'r') as f:\n",
    "    reader = csv.reader(f)\n",
    "    for row in reader:\n",
    "        row = int(float(row[0]))\n",
    "        x.append(row)\n",
    "y = []\n",
    "with open('scores_9.txt', 'r') as f:\n",
    "    reader = csv.reader(f)\n",
    "    for row in reader:\n",
    "        row = int(float(row[0]))\n",
    "        y.append(row)\n",
    "             \n",
    "plt.title(\"Score Histgram\")\n",
    "plt.xlabel(\"Score\")\n",
    "plt.ylabel(\"freq\")\n",
    "plt.hist(x, bins=10, alpha=0.3, histtype='stepfilled', color='r', label=\"1\")\n",
    "plt.hist(y, bins=40, alpha=0.3, histtype='stepfilled', color='b', label='9')\n",
    "plt.legend(loc=1)\n",
    "plt.savefig(\"histgram.png\")\n",
    "plt.show()\n",
    "plt.close()"
   ]
  },
  {
   "cell_type": "code",
   "execution_count": null,
   "metadata": {
    "collapsed": true
   },
   "outputs": [],
   "source": []
  },
  {
   "cell_type": "code",
   "execution_count": null,
   "metadata": {
    "collapsed": true
   },
   "outputs": [],
   "source": []
  },
  {
   "cell_type": "code",
   "execution_count": null,
   "metadata": {
    "collapsed": true
   },
   "outputs": [],
   "source": []
  },
  {
   "cell_type": "code",
   "execution_count": null,
   "metadata": {
    "collapsed": true
   },
   "outputs": [],
   "source": []
  }
 ],
 "metadata": {
  "kernelspec": {
   "display_name": "Python 3",
   "language": "python",
   "name": "python3"
  },
  "language_info": {
   "codemirror_mode": {
    "name": "ipython",
    "version": 3
   },
   "file_extension": ".py",
   "mimetype": "text/x-python",
   "name": "python",
   "nbconvert_exporter": "python",
   "pygments_lexer": "ipython3",
   "version": "3.6.0"
  }
 },
 "nbformat": 4,
 "nbformat_minor": 2
}
